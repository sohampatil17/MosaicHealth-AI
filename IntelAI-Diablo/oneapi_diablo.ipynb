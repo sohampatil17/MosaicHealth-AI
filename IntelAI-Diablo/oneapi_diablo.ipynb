{
 "cells": [
  {
   "cell_type": "code",
   "execution_count": 1,
   "id": "4e91dcf1-d18e-451f-9970-f4be210307ff",
   "metadata": {},
   "outputs": [],
   "source": [
    "from transformers import AutoModelForCausalLM, AutoTokenizer\n",
    "import torch\n",
    "\n",
    "import warnings\n",
    "warnings.filterwarnings('ignore')"
   ]
  },
  {
   "cell_type": "code",
   "execution_count": 2,
   "id": "866a684e-7ae6-4bd5-b10f-4b8f21a39223",
   "metadata": {},
   "outputs": [],
   "source": [
    "from transformers import AutoModelForCausalLM, AutoTokenizer\n",
    "import torch\n",
    "\n",
    "import warnings\n",
    "warnings.filterwarnings('ignore')"
   ]
  },
  {
   "cell_type": "code",
   "execution_count": 3,
   "id": "f9450e23-6136-4116-ab9a-2f4da2380da6",
   "metadata": {},
   "outputs": [],
   "source": [
    "def load_tokenizer_and_model(model=\"microsoft/DialoGPT-large\"):\n",
    "    \"\"\"\n",
    "    Load tokenizer and model instance for some specific Phi-2 model.\n",
    "    \"\"\"\n",
    "    # Initialize tokenizer and model\n",
    "    print(\"Loading model...\")\n",
    "    tokenizer = AutoTokenizer.from_pretrained(model, padding_side='left')\n",
    "    model = AutoModelForCausalLM.from_pretrained(model)\n",
    "    \n",
    "    # Return tokenizer and model\n",
    "    return tokenizer, model"
   ]
  },
  {
   "cell_type": "code",
   "execution_count": 4,
   "id": "a9a1b212-d797-413d-9e82-059d809cf47d",
   "metadata": {},
   "outputs": [],
   "source": [
    "from intel_extension_for_pytorch.quantization import prepare, convert\n",
    "import intel_extension_for_pytorch as ipex\n",
    "\n",
    "def quantize_model(tokenizer, model):\n",
    "    \"\"\"\n",
    "    Adding IPEX dynamic quantization to the model\n",
    "    \"\"\"\n",
    "    # Evaluate model\n",
    "    model.eval()\n",
    "    \n",
    "    print(\"Quantization in progress...\")\n",
    "    \n",
    "    # Prepare example outputs for the model\n",
    "    question, text = \"What is SYCL?\", \"SYCL is an industry-driven standard, developed by Kronos Group and announced in March 2014.\"\n",
    "    inputs = tokenizer(question, text, return_tensors=\"pt\")\n",
    "    jit_inputs  = tuple((inputs['input_ids']))\n",
    "    \n",
    "    # Create configuration for dynamic quantization\n",
    "    qconfig = ipex.quantization.default_dynamic_qconfig\n",
    "    \n",
    "    # Optimize model\n",
    "    model = ipex.optimize(model)\n",
    "    \n",
    "    # Prepare model for quantization using previously prepared parameters\n",
    "    prepared_model = prepare(model, qconfig, example_inputs=jit_inputs, inplace=False)\n",
    "    \n",
    "    # Convert types in model\n",
    "    converted_model = convert(prepared_model)\n",
    "    \n",
    "    return tokenizer, converted_model"
   ]
  },
  {
   "cell_type": "code",
   "execution_count": 5,
   "id": "e67daae9-25ff-4fc9-a7fc-bd379d63f232",
   "metadata": {},
   "outputs": [],
   "source": [
    "from intel_extension_for_pytorch.quantization import prepare, convert\n",
    "import intel_extension_for_pytorch as ipex\n",
    "\n",
    "def quantize_model(tokenizer, model):\n",
    "    \"\"\"\n",
    "    Adding IPEX dynamic quantization to the model\n",
    "    \"\"\"\n",
    "    # Evaluate model\n",
    "    model.eval()\n",
    "    \n",
    "    print(\"Quantization in progress...\")\n",
    "    \n",
    "    # Prepare example outputs for the model\n",
    "    question, text = \"What is SYCL?\", \"SYCL is an industry-driven standard, developed by Kronos Group and announced in March 2014.\"\n",
    "    inputs = tokenizer(question, text, return_tensors=\"pt\")\n",
    "    jit_inputs  = tuple((inputs['input_ids']))\n",
    "    \n",
    "    # Create configuration for dynamic quantization\n",
    "    qconfig = ipex.quantization.default_dynamic_qconfig\n",
    "    \n",
    "    # Optimize model\n",
    "    model = ipex.optimize(model)\n",
    "    \n",
    "    # Prepare model for quantization using previously prepared parameters\n",
    "    prepared_model = prepare(model, qconfig, example_inputs=jit_inputs, inplace=False)\n",
    "    \n",
    "    # Convert types in model\n",
    "    converted_model = convert(prepared_model)\n",
    "    \n",
    "    return tokenizer, converted_model"
   ]
  },
  {
   "cell_type": "code",
   "execution_count": 6,
   "id": "87e49a38-65ad-4c4b-8fa2-4a1b0e46b705",
   "metadata": {},
   "outputs": [],
   "source": [
    "def generate_response(tokenizer, model, chat_round, chat_history_ids):\n",
    "    \"\"\"\n",
    "    Generate a response to some user input.\n",
    "    \"\"\"\n",
    "    # Encode user input and End-of-String (EOS) token\n",
    "    new_input_ids = tokenizer.encode(input(\">> You:\") + tokenizer.eos_token, return_tensors='pt')\n",
    "    \n",
    "    # Append tokens to chat history\n",
    "    bot_input_ids = torch.cat([chat_history_ids, new_input_ids], dim=-1) if chat_round > 0 else new_input_ids\n",
    "    \n",
    "    # Generate response given maximum chat length history of 2000 tokens\n",
    "    chat_history_ids = model.generate(\n",
    "        bot_input_ids,\n",
    "        do_sample=True, \n",
    "        max_length=2000,\n",
    "        top_k=50, \n",
    "        top_p=0.95,\n",
    "        pad_token_id=tokenizer.eos_token_id\n",
    "    )\n",
    "    \n",
    "    # Print response\n",
    "    print(\"Phi-2: {}\".format(tokenizer.decode(chat_history_ids[:, bot_input_ids.shape[-1]:][0], skip_special_tokens=True)))\n",
    "    \n",
    "    # Return the chat history ids\n",
    "    return chat_history_ids"
   ]
  },
  {
   "cell_type": "code",
   "execution_count": 7,
   "id": "d3bd5b7e-c3c4-4fbc-a795-6ec8b899dfd9",
   "metadata": {},
   "outputs": [],
   "source": [
    "def chat_for_n_rounds(tokenizer, model, n=5):\n",
    "    \"\"\"\n",
    "    Chat with chatbot for n rounds (n = 5 by default)\n",
    "    \"\"\"\n",
    "\n",
    "    # Initialize history variable\n",
    "    chat_history_ids = None\n",
    "\n",
    "    # Chat for n rounds\n",
    "    for chat_round in range(n):\n",
    "        chat_history_ids = generate_response(tokenizer, model, chat_round, chat_history_ids)"
   ]
  },
  {
   "cell_type": "code",
   "execution_count": 8,
   "id": "793d5e3f-3572-457a-bd24-943c96de4775",
   "metadata": {},
   "outputs": [
    {
     "name": "stdout",
     "output_type": "stream",
     "text": [
      "Loading model...\n",
      "Quantization in progress...\n"
     ]
    }
   ],
   "source": [
    "# Initialize tokenizer and model\n",
    "tokenizer, model = load_tokenizer_and_model()\n",
    "\n",
    "# Adding ipex quantization to the model\n",
    "tokenizer, model = quantize_model(tokenizer, model)\n",
    "torch.save(model.state_dict(), './quantized_model')\n"
   ]
  },
  {
   "cell_type": "code",
   "execution_count": 9,
   "id": "c0f8a993-27fe-4587-bacd-3e3caef7e584",
   "metadata": {},
   "outputs": [
    {
     "name": "stdin",
     "output_type": "stream",
     "text": [
      ">> You: Hello\n"
     ]
    },
    {
     "name": "stderr",
     "output_type": "stream",
     "text": [
      "A decoder-only architecture is being used, but right-padding was detected! For correct generation results, please set `padding_side='left'` when initializing the tokenizer.\n"
     ]
    },
    {
     "name": "stdout",
     "output_type": "stream",
     "text": [
      "Phi-2: Whats up\n"
     ]
    },
    {
     "name": "stdin",
     "output_type": "stream",
     "text": [
      ">> You: How are you doing?\n"
     ]
    },
    {
     "name": "stderr",
     "output_type": "stream",
     "text": [
      "A decoder-only architecture is being used, but right-padding was detected! For correct generation results, please set `padding_side='left'` when initializing the tokenizer.\n"
     ]
    },
    {
     "name": "stdout",
     "output_type": "stream",
     "text": [
      "Phi-2: Good You?\n"
     ]
    }
   ],
   "source": [
    "chat_for_n_rounds(tokenizer, model, 2)"
   ]
  },
  {
   "cell_type": "code",
   "execution_count": 10,
   "id": "941376aa-8f70-4221-b987-1d6a9d53384c",
   "metadata": {},
   "outputs": [],
   "source": [
    "from time import time\n",
    "def test_inference(model, data, warmup=5 , iters=25):\n",
    "    print(\"Warmup...\")\n",
    "    for i in range(warmup):\n",
    "        out = model(data)\n",
    "\n",
    "    print(\"Inference...\")\n",
    "    inference_time = 0\n",
    "    for i in range(iters):\n",
    "        start_time = time()\n",
    "        out = model(data)\n",
    "        end_time = time()\n",
    "        inference_time = inference_time + (end_time - start_time)\n",
    "\n",
    "    inference_time = inference_time / iters\n",
    "    return inference_time"
   ]
  },
  {
   "cell_type": "code",
   "execution_count": 11,
   "id": "49f88132-0dc5-46ea-a781-4f2b63f8bd67",
   "metadata": {},
   "outputs": [
    {
     "name": "stdout",
     "output_type": "stream",
     "text": [
      "Inference with FP32\n",
      "Loading model...\n",
      "Warmup...\n",
      "Inference...\n"
     ]
    }
   ],
   "source": [
    "print(\"Inference with FP32\")\n",
    "tokenizer_fp32, model_fp32 = load_tokenizer_and_model()\n",
    "data = torch.randint(model_fp32.config.vocab_size, size=[1, 512])\n",
    "fp32_inference_time = test_inference(model_fp32, data = data)"
   ]
  },
  {
   "cell_type": "code",
   "execution_count": 12,
   "id": "510cc097-ce52-4a9c-9838-9da80dac610a",
   "metadata": {},
   "outputs": [
    {
     "name": "stdout",
     "output_type": "stream",
     "text": [
      "Inference with Dynamic INT8\n",
      "Loading model...\n",
      "Quantization in progress...\n",
      "Warmup...\n",
      "Inference...\n"
     ]
    }
   ],
   "source": [
    "print(\"Inference with Dynamic INT8\")\n",
    "tokenizer_int8, model_int8 = load_tokenizer_and_model()\n",
    "tokenizer_int8, model_int8 = quantize_model(tokenizer_int8, model_int8)\n",
    "data = torch.randint(model_int8.config.vocab_size, size=[1, 512])\n",
    "int8_inference_time = test_inference(model_int8, data = data)"
   ]
  },
  {
   "cell_type": "code",
   "execution_count": 13,
   "id": "7c2bdba9-5b25-4bef-ab67-40935abf1ea0",
   "metadata": {},
   "outputs": [
    {
     "data": {
      "text/plain": [
       "<BarContainer object of 2 artists>"
      ]
     },
     "execution_count": 13,
     "metadata": {},
     "output_type": "execute_result"
    },
    {
     "data": {
      "image/png": "[encoded data removed]",
      "text/plain": [
       "<Figure size 400x300 with 1 Axes>"
      ]
     },
     "metadata": {},
     "output_type": "display_data"
    }
   ],
   "source": [
    "import matplotlib.pyplot as plt\n",
    "\n",
    "# Create bar chart with training time results\n",
    "plt.figure(figsize=(4,3))\n",
    "plt.title(\"Phi-2 Inference Time\")\n",
    "plt.ylabel(\"Inference Time (seconds)\")\n",
    "plt.bar([\"FP32\", \"INT8 dynamic\"], [fp32_inference_time, int8_inference_time])"
   ]
  },
  {
   "cell_type": "code",
   "execution_count": 14,
   "id": "3098b4cf-d01f-4fe8-aad1-090392c823bf",
   "metadata": {},
   "outputs": [
    {
     "name": "stdout",
     "output_type": "stream",
     "text": [
      "[CODE_SAMPLE_COMPLETED_SUCCESFULLY]\n"
     ]
    }
   ],
   "source": [
    "print(\"[CODE_SAMPLE_COMPLETED_SUCCESFULLY]\")"
   ]
  }
 ],
 "metadata": {
  "kernelspec": {
   "display_name": "pytorch",
   "language": "python",
   "name": "pytorch"
  },
  "language_info": {
   "codemirror_mode": {
    "name": "ipython",
    "version": 3
   },
   "file_extension": ".py",
   "mimetype": "text/x-python",
   "name": "python",
   "nbconvert_exporter": "python",
   "pygments_lexer": "ipython3",
   "version": "3.9.18"
  }
 },
 "nbformat": 4,
 "nbformat_minor": 5
}
