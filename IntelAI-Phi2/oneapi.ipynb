{
 "cells": [
  {
   "cell_type": "code",
   "execution_count": 1,
   "id": "4e91dcf1-d18e-451f-9970-f4be210307ff",
   "metadata": {},
   "outputs": [],
   "source": [
    "from transformers import AutoModelForCausalLM, AutoTokenizer\n",
    "import torch\n",
    "\n",
    "import warnings\n",
    "warnings.filterwarnings('ignore')"
   ]
  },
  {
   "cell_type": "code",
   "execution_count": 2,
   "id": "866a684e-7ae6-4bd5-b10f-4b8f21a39223",
   "metadata": {},
   "outputs": [],
   "source": [
    "from transformers import AutoModelForCausalLM, AutoTokenizer\n",
    "import torch\n",
    "\n",
    "import warnings\n",
    "warnings.filterwarnings('ignore')"
   ]
  },
  {
   "cell_type": "code",
   "execution_count": 3,
   "id": "f9450e23-6136-4116-ab9a-2f4da2380da6",
   "metadata": {},
   "outputs": [],
   "source": [
    "def load_tokenizer_and_model(model=\"microsoft/phi-2\"):\n",
    "    \"\"\"\n",
    "    Load tokenizer and model instance for some specific Phi-2 model.\n",
    "    \"\"\"\n",
    "    # Initialize tokenizer and model\n",
    "    print(\"Loading model...\")\n",
    "    tokenizer = AutoTokenizer.from_pretrained(model, padding_side='left')\n",
    "    model = AutoModelForCausalLM.from_pretrained(model)\n",
    "    \n",
    "    # Return tokenizer and model\n",
    "    return tokenizer, model"
   ]
  },
  {
   "cell_type": "code",
   "execution_count": 4,
   "id": "a9a1b212-d797-413d-9e82-059d809cf47d",
   "metadata": {},
   "outputs": [],
   "source": [
    "from intel_extension_for_pytorch.quantization import prepare, convert\n",
    "import intel_extension_for_pytorch as ipex\n",
    "\n",
    "def quantize_model(tokenizer, model):\n",
    "    \"\"\"\n",
    "    Adding IPEX dynamic quantization to the model\n",
    "    \"\"\"\n",
    "    # Evaluate model\n",
    "    model.eval()\n",
    "    \n",
    "    print(\"Quantization in progress...\")\n",
    "    \n",
    "    # Prepare example outputs for the model\n",
    "    question, text = \"What is SYCL?\", \"SYCL is an industry-driven standard, developed by Kronos Group and announced in March 2014.\"\n",
    "    inputs = tokenizer(question, text, return_tensors=\"pt\")\n",
    "    jit_inputs  = tuple((inputs['input_ids']))\n",
    "    \n",
    "    # Create configuration for dynamic quantization\n",
    "    qconfig = ipex.quantization.default_dynamic_qconfig\n",
    "    \n",
    "    # Optimize model\n",
    "    model = ipex.optimize(model)\n",
    "    \n",
    "    # Prepare model for quantization using previously prepared parameters\n",
    "    prepared_model = prepare(model, qconfig, example_inputs=jit_inputs, inplace=False)\n",
    "    \n",
    "    # Convert types in model\n",
    "    converted_model = convert(prepared_model)\n",
    "    \n",
    "    return tokenizer, converted_model"
   ]
  },
  {
   "cell_type": "code",
   "execution_count": 5,
   "id": "e67daae9-25ff-4fc9-a7fc-bd379d63f232",
   "metadata": {},
   "outputs": [],
   "source": [
    "from intel_extension_for_pytorch.quantization import prepare, convert\n",
    "import intel_extension_for_pytorch as ipex\n",
    "\n",
    "def quantize_model(tokenizer, model):\n",
    "    \"\"\"\n",
    "    Adding IPEX dynamic quantization to the model\n",
    "    \"\"\"\n",
    "    # Evaluate model\n",
    "    model.eval()\n",
    "    \n",
    "    print(\"Quantization in progress...\")\n",
    "    \n",
    "    # Prepare example outputs for the model\n",
    "    question, text = \"What is SYCL?\", \"SYCL is an industry-driven standard, developed by Kronos Group and announced in March 2014.\"\n",
    "    inputs = tokenizer(question, text, return_tensors=\"pt\")\n",
    "    jit_inputs  = tuple((inputs['input_ids']))\n",
    "    \n",
    "    # Create configuration for dynamic quantization\n",
    "    qconfig = ipex.quantization.default_dynamic_qconfig\n",
    "    \n",
    "    # Optimize model\n",
    "    model = ipex.optimize(model)\n",
    "    \n",
    "    # Prepare model for quantization using previously prepared parameters\n",
    "    prepared_model = prepare(model, qconfig, example_inputs=jit_inputs, inplace=False)\n",
    "    \n",
    "    # Convert types in model\n",
    "    converted_model = convert(prepared_model)\n",
    "    \n",
    "    return tokenizer, converted_model"
   ]
  },
  {
   "cell_type": "code",
   "execution_count": 6,
   "id": "87e49a38-65ad-4c4b-8fa2-4a1b0e46b705",
   "metadata": {},
   "outputs": [],
   "source": [
    "def generate_response(tokenizer, model, chat_round, chat_history_ids):\n",
    "    \"\"\"\n",
    "    Generate a response to some user input.\n",
    "    \"\"\"\n",
    "    # Encode user input and End-of-String (EOS) token\n",
    "    new_input_ids = tokenizer.encode(input(\">> You:\") + tokenizer.eos_token, return_tensors='pt')\n",
    "    \n",
    "    # Append tokens to chat history\n",
    "    bot_input_ids = torch.cat([chat_history_ids, new_input_ids], dim=-1) if chat_round > 0 else new_input_ids\n",
    "    \n",
    "    # Generate response given maximum chat length history of 2000 tokens\n",
    "    chat_history_ids = model.generate(\n",
    "        bot_input_ids,\n",
    "        do_sample=True, \n",
    "        max_length=2000,\n",
    "        top_k=50, \n",
    "        top_p=0.95,\n",
    "        pad_token_id=tokenizer.eos_token_id\n",
    "    )\n",
    "    \n",
    "    # Print response\n",
    "    print(\"Phi-2: {}\".format(tokenizer.decode(chat_history_ids[:, bot_input_ids.shape[-1]:][0], skip_special_tokens=True)))\n",
    "    \n",
    "    # Return the chat history ids\n",
    "    return chat_history_ids"
   ]
  },
  {
   "cell_type": "code",
   "execution_count": 7,
   "id": "d3bd5b7e-c3c4-4fbc-a795-6ec8b899dfd9",
   "metadata": {},
   "outputs": [],
   "source": [
    "def chat_for_n_rounds(tokenizer, model, n=5):\n",
    "    \"\"\"\n",
    "    Chat with chatbot for n rounds (n = 5 by default)\n",
    "    \"\"\"\n",
    "\n",
    "    # Initialize history variable\n",
    "    chat_history_ids = None\n",
    "\n",
    "    # Chat for n rounds\n",
    "    for chat_round in range(n):\n",
    "        chat_history_ids = generate_response(tokenizer, model, chat_round, chat_history_ids)"
   ]
  },
  {
   "cell_type": "code",
   "execution_count": 8,
   "id": "793d5e3f-3572-457a-bd24-943c96de4775",
   "metadata": {},
   "outputs": [
    {
     "name": "stderr",
     "output_type": "stream",
     "text": [
      "Special tokens have been added in the vocabulary, make sure the associated word embeddings are fine-tuned or trained.\n"
     ]
    },
    {
     "name": "stdout",
     "output_type": "stream",
     "text": [
      "Loading model...\n"
     ]
    },
    {
     "data": {
      "application/vnd.jupyter.widget-view+json": {
       "model_id": "53924bed49a74bea80f5f58491d70718",
       "version_major": 2,
       "version_minor": 0
      },
      "text/plain": [
       "Loading checkpoint shards:   0%|          | 0/2 [00:00<?, ?it/s]"
      ]
     },
     "metadata": {},
     "output_type": "display_data"
    },
    {
     "name": "stdout",
     "output_type": "stream",
     "text": [
      "Quantization in progress...\n"
     ]
    }
   ],
   "source": [
    "# Initialize tokenizer and model\n",
    "tokenizer, model = load_tokenizer_and_model()\n",
    "\n",
    "# Adding ipex quantization to the model\n",
    "tokenizer, model = quantize_model(tokenizer, model)\n",
    "torch.save(model.state_dict(), './quantized_model')\n"
   ]
  },
  {
   "cell_type": "code",
   "execution_count": 9,
   "id": "c0f8a993-27fe-4587-bacd-3e3caef7e584",
   "metadata": {},
   "outputs": [
    {
     "name": "stdin",
     "output_type": "stream",
     "text": [
      ">> You: Can you generate a random article about a subject of your choice\n"
     ]
    },
    {
     "name": "stderr",
     "output_type": "stream",
     "text": [
      "A decoder-only architecture is being used, but right-padding was detected! For correct generation results, please set `padding_side='left'` when initializing the tokenizer.\n"
     ]
    },
    {
     "name": "stdout",
     "output_type": "stream",
     "text": [
      "Phi-2: The first step toward becoming a better teacher is knowing what you don't know. You can't expect students to learn material if you don't know how to present it. Asking questions and being comfortable admitting that you don't know something is important. It will keep you from being afraid to make mistakes in front of students and it will prevent you from being too confident and presenting material you're not familiar with.\n",
      "Be able to explain your lesson so others can understand it. This is called explaining what you're doing. \"Explaining what you're doing\" is a teaching technique that helps you explain what you're thinking and doing when you teach, rather than telling. An example of telling is \"I'm just going to read the first chapter to the class and then ask some questions about it.\" An example of explaining is \"We're going to read the first chapter to see if there are any big ideas that we could discuss and write down. Then, we'll ask if anyone has questions about anything we read.\" You're telling your students what you're going to do. Explaining what you're doing is showing how your teaching will work.\n",
      "Being organized and planning ahead can help ensure that you aren't caught off guard in the classroom. When you plan ahead, you know what you're teaching. You know how you want students to learn and what you think they will get out of it. You know if you need to make any changes to your lesson before you teach it. You plan out what you're going to use in your classroom and you prepare for any unforeseen circumstances. When you're prepared for any problems that may occur, you won't have to worry about what to do if something goes wrong.\n",
      "Being flexible and having a sense of humor helps you to overcome challenges that can arise in the classroom. It also makes you approachable and allows students to ask questions about what you're teaching without feeling embarrassed.\n",
      "Being able to keep students engaged in your lesson by making it interesting and exciting will keep them interested and excited to learn. You can do this by using hands-on activities and demonstrations, telling stories, having them participate in class discussions, using humor, making it interactive, and using multimedia such as videos, slideshows, and audio/visual equipment.\n",
      "When you present material in a clear and understandable manner, you reduce the risk of miscommunication. Miscommunication is a problem in classrooms because students have different learning styles and can interpret information in various ways. Being able to present information clearly will help avoid this problem.\n",
      "It can be difficult to manage a large classroom with many different personalities, but it's essential if you want to be a successful teacher. Managing a classroom is important because if you can't control your students, you won't be able to teach them effectively.\n",
      "Keeping students safe in the classroom is important. You want to ensure that students don't get injured while they're in your class. This means following safety procedures and knowing what to do if there's an emergency.\n",
      "Being organized and having a good relationship with your students are important aspects of being a successful teacher. You should have an organized classroom because it helps you stay on top of your work and it helps your students know where things are located. You should also have a good relationship with your students because it makes them feel comfortable and allows you to better connect with them.\n",
      "It's hard to be a good teacher if you're not passionate about what you're teaching. Being passionate about what you're teaching makes you want to learn more and be able to share that knowledge with your students.\n",
      "One way to determine if you're a good teacher is to find out if your students are improving academically. You can measure this by having your students take standardized tests at the end of the year. If they do better on the tests than they did the year before, then you know you're doing a good job.\n",
      "If you can find ways to make learning fun for your students, then you know you're a good teacher. You should be able to make learning fun because that's how students learn best.\n",
      "In conclusion, there are many qualities that make someone a good teacher. These qualities include: being a good communicator, being organized, being passionate about teaching, being able to control a classroom, being able to explain what you're doing, being flexible, being able to keep students engaged, managing a classroom, and keeping students safe. If you possess these qualities, then you will be a great teacher.\n"
     ]
    },
    {
     "name": "stdin",
     "output_type": "stream",
     "text": [
      ">> You: Can you generate another random article about another subject?\n"
     ]
    },
    {
     "name": "stderr",
     "output_type": "stream",
     "text": [
      "A decoder-only architecture is being used, but right-padding was detected! For correct generation results, please set `padding_side='left'` when initializing the tokenizer.\n"
     ]
    },
    {
     "name": "stdout",
     "output_type": "stream",
     "text": [
      "Phi-2: By: Mark E. Ferenciak & Brian L. Ferenciak\n",
      "It is often difficult to understand an insurance policy. Even after reading over the coverage, the policy may be ambiguous as to whether it applies. Unfortunately, this is the reality of insurance. Insurance is a contract between two parties: the insured and the insurer.\n",
      "There are many terms that are not defined. In the insurance world, this is ISSUE OF CONTRACT. This means that the policy language or the terms of the policy is the controlling force. The parties can agree to add or exclude certain terms, but the parties will never agree that the contract is the issue of contract. A contract by definition is a written agreement. If there is no written agreement, then the parties must turn to the state's governing law to determine what the insurance contract means. Most state insurance codes have \"default rules\" and provisions to interpret insurance contracts. These rules will help determine who is the insured and who the insurer is.\n",
      "\"Insured\" is defined in a standard automobile insurance policy as an owner or operator of an automobile who has paid the premium. The automobile must also be maintained in an acceptable condition. The definition also states that the insured person was or should have been in physical possession of the automobile at the time of an accident. This means that the policyholder who owns and operates an automobile must be physically at or close to his car to file an insurance claim. In cases where there are multiple drivers on the vehicle at the time of the accident, the person who was at the wheel will have a duty to protect the others' insured status. If the policyholder was not the one driving the vehicle at the time of the accident, there is no coverage.\n",
      "\"Insurer\" is defined as the insurance company, or a broker or agency of the insurance company, for the policy. In some policies, it does not matter if the company is listed. If an insurance company has a policy number, then it may be the \"insurer\".\n",
      "A policy will state the named insured. This is the only person on the policy that the insurance company is responsible for. The policy will also have a list of people who are included as additional insureds. This is an exclusion of insured status. Additional insureds can be added to a policy for specific events. If a named insured or additional insured are killed, the insurance company has a duty to defend them. This also means that there is an obligation to defend claims against the deceased. If 450 employees are listed as additional insureds on an auto policy and two employees are killed, it is only necessary to pay for the defense of the two employees, and the insurance company is responsible for the cost of the defense. This applies to employers who are listed as additional insureds. In order to receive reimbursement for these costs, the employer must show proof of the defense costs. If an employer is an additional insured and the employer is not named on the policy, the employer will not be protected.\n",
      "The most important element of an insurance policy is the amount of coverage. The standard definition of coverage will state \"insured bodily injury and property damage sustained by the person(s) for whom the insurer is obligated to pay and/or legal liability\". What does this mean? First, bodily injury means an injury to a person. There are some policies that list the definitions in the policy itself. Other policies use the definitions from the governing law in the state. The definitions for property damage and legal liability will also be dependent on state law. Some definitions are similar, while other definitions are different. One thing is for certain, there is a defined difference between property damage and personal injury. Property damage includes the damage to the insured person's car and the damage to the property around the car. An example would be if a truck hits a fence that was in the way of the truck. The fence God destroyed would be considered property damage and it is the insured person's liability. On the other hand, injuries to people other than the insured person, or the people who own the property that was damaged, would be considered bodily injury. A good example of this would be a car accident. The person whose car is damaged is the insured person. The other person is injured and that is considered a bodily injury.\n",
      "Coverage is the subject of every insurance claim. Before filing a claim, it is necessary to understand the policy terms. It is also necessary to determine if the policy covers the claim at all. If the insurance policy does not cover the claim, or if the policy limit does not exceed the value of the claim, then there will be no recovery.\n",
      "Attorney Mark Ferenciak received his undergraduate degree from Michigan State University in 1993 and is currently enrolled in the graduate insurance law program at Michigan State University College of Law, from which he is expected to receive his J.D. in May of 2016. Mark is currently a first-year associate in the law firm of Gebhardt & Ferenciak, PLC in East Lansing, Michigan, and serves as an extern for the law school's Insurance and Risk Management Law Clinic. He has been involved with the law school's Insurance Law Association since the 2012-2013 school year and has served as the Association's Executive\n"
     ]
    }
   ],
   "source": [
    "chat_for_n_rounds(tokenizer, model, 2)"
   ]
  },
  {
   "cell_type": "code",
   "execution_count": 10,
   "id": "941376aa-8f70-4221-b987-1d6a9d53384c",
   "metadata": {},
   "outputs": [],
   "source": [
    "from time import time\n",
    "def test_inference(model, data, warmup=5 , iters=25):\n",
    "    print(\"Warmup...\")\n",
    "    for i in range(warmup):\n",
    "        out = model(data)\n",
    "\n",
    "    print(\"Inference...\")\n",
    "    inference_time = 0\n",
    "    for i in range(iters):\n",
    "        start_time = time()\n",
    "        out = model(data)\n",
    "        end_time = time()\n",
    "        inference_time = inference_time + (end_time - start_time)\n",
    "\n",
    "    inference_time = inference_time / iters\n",
    "    return inference_time"
   ]
  },
  {
   "cell_type": "code",
   "execution_count": 11,
   "id": "49f88132-0dc5-46ea-a781-4f2b63f8bd67",
   "metadata": {},
   "outputs": [
    {
     "name": "stdout",
     "output_type": "stream",
     "text": [
      "Inference with FP32\n",
      "Loading model...\n"
     ]
    },
    {
     "name": "stderr",
     "output_type": "stream",
     "text": [
      "Special tokens have been added in the vocabulary, make sure the associated word embeddings are fine-tuned or trained.\n"
     ]
    },
    {
     "data": {
      "application/vnd.jupyter.widget-view+json": {
       "model_id": "2e9c1a7382a04ad182213f68cef5534f",
       "version_major": 2,
       "version_minor": 0
      },
      "text/plain": [
       "Loading checkpoint shards:   0%|          | 0/2 [00:00<?, ?it/s]"
      ]
     },
     "metadata": {},
     "output_type": "display_data"
    },
    {
     "name": "stdout",
     "output_type": "stream",
     "text": [
      "Warmup...\n",
      "Inference...\n"
     ]
    }
   ],
   "source": [
    "print(\"Inference with FP32\")\n",
    "tokenizer_fp32, model_fp32 = load_tokenizer_and_model()\n",
    "data = torch.randint(model_fp32.config.vocab_size, size=[1, 512])\n",
    "fp32_inference_time = test_inference(model_fp32, data = data)"
   ]
  },
  {
   "cell_type": "code",
   "execution_count": 12,
   "id": "510cc097-ce52-4a9c-9838-9da80dac610a",
   "metadata": {},
   "outputs": [
    {
     "name": "stderr",
     "output_type": "stream",
     "text": [
      "Special tokens have been added in the vocabulary, make sure the associated word embeddings are fine-tuned or trained.\n"
     ]
    },
    {
     "name": "stdout",
     "output_type": "stream",
     "text": [
      "Inference with Dynamic INT8\n",
      "Loading model...\n"
     ]
    },
    {
     "data": {
      "application/vnd.jupyter.widget-view+json": {
       "model_id": "41655142c0f44c64898294924cccdab9",
       "version_major": 2,
       "version_minor": 0
      },
      "text/plain": [
       "Loading checkpoint shards:   0%|          | 0/2 [00:00<?, ?it/s]"
      ]
     },
     "metadata": {},
     "output_type": "display_data"
    },
    {
     "name": "stdout",
     "output_type": "stream",
     "text": [
      "Quantization in progress...\n",
      "Warmup...\n",
      "Inference...\n"
     ]
    }
   ],
   "source": [
    "print(\"Inference with Dynamic INT8\")\n",
    "tokenizer_int8, model_int8 = load_tokenizer_and_model()\n",
    "tokenizer_int8, model_int8 = quantize_model(tokenizer_int8, model_int8)\n",
    "data = torch.randint(model_int8.config.vocab_size, size=[1, 512])\n",
    "int8_inference_time = test_inference(model_int8, data = data)"
   ]
  },
  {
   "cell_type": "code",
   "execution_count": 13,
   "id": "7c2bdba9-5b25-4bef-ab67-40935abf1ea0",
   "metadata": {},
   "outputs": [
    {
     "data": {
      "text/plain": [
       "<BarContainer object of 2 artists>"
      ]
     },
     "execution_count": 13,
     "metadata": {},
     "output_type": "execute_result"
    },
    {
     "data": {
      "image/png": "[encoded data removed]",
      "text/plain": [
       "<Figure size 400x300 with 1 Axes>"
      ]
     },
     "metadata": {},
     "output_type": "display_data"
    }
   ],
   "source": [
    "import matplotlib.pyplot as plt\n",
    "\n",
    "# Create bar chart with training time results\n",
    "plt.figure(figsize=(4,3))\n",
    "plt.title(\"Phi-2 Inference Time\")\n",
    "plt.ylabel(\"Inference Time (seconds)\")\n",
    "plt.bar([\"FP32\", \"INT8 dynamic\"], [fp32_inference_time, int8_inference_time])"
   ]
  },
  {
   "cell_type": "code",
   "execution_count": 14,
   "id": "3098b4cf-d01f-4fe8-aad1-090392c823bf",
   "metadata": {},
   "outputs": [
    {
     "name": "stdout",
     "output_type": "stream",
     "text": [
      "[CODE_SAMPLE_COMPLETED_SUCCESFULLY]\n"
     ]
    }
   ],
   "source": [
    "print(\"[CODE_SAMPLE_COMPLETED_SUCCESFULLY]\")"
   ]
  }
 ],
 "metadata": {
  "kernelspec": {
   "display_name": "pytorch",
   "language": "python",
   "name": "pytorch"
  },
  "language_info": {
   "codemirror_mode": {
    "name": "ipython",
    "version": 3
   },
   "file_extension": ".py",
   "mimetype": "text/x-python",
   "name": "python",
   "nbconvert_exporter": "python",
   "pygments_lexer": "ipython3",
   "version": "3.9.18"
  }
 },
 "nbformat": 4,
 "nbformat_minor": 5
}
